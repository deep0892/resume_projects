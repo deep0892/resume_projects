{
  "nbformat": 4,
  "nbformat_minor": 0,
  "metadata": {
    "colab": {
      "name": "Drug_Design_2.ipynb",
      "provenance": [],
      "collapsed_sections": [],
      "machine_shape": "hm"
    },
    "kernelspec": {
      "display_name": "Python 3",
      "name": "python3"
    },
    "accelerator": "GPU"
  },
  "cells": [
    {
      "cell_type": "code",
      "metadata": {
        "id": "0VIfuZ7ttAXw"
      },
      "source": [
        "#@title Drug Design"
      ],
      "execution_count": 288,
      "outputs": []
    },
    {
      "cell_type": "code",
      "metadata": {
        "id": "dYSLa1JVSbm3"
      },
      "source": [
        "# from google.colab import drive\n",
        "# drive.mount(\"/content/drive\")"
      ],
      "execution_count": 333,
      "outputs": []
    },
    {
      "cell_type": "code",
      "metadata": {
        "id": "8vWO7UdLeq-w"
      },
      "source": [
        "# Import Libraries\n",
        "import pandas as pd\n",
        "import numpy as np\n",
        "import matplotlib.pyplot as plt \n",
        "import keras\n",
        "from keras import layers\n",
        "from keras.models import Model \n",
        "from keras import metrics\n",
        "from keras import backend as K \n",
        "import tensorflow as tf \n",
        "from tensorflow.keras.optimizers import Adam \n",
        "import warnings \n",
        "import matplotlib.pyplot as plt\n",
        "from tqdm import tqdm\n",
        "import random"
      ],
      "execution_count": 334,
      "outputs": []
    },
    {
      "cell_type": "code",
      "metadata": {
        "id": "dO4XkCY0qWU9"
      },
      "source": [
        "# Set environment variables and clear sessions\n",
        "K.clear_session()\n",
        "np.random.seed(237)\n",
        "warnings.filterwarnings(\"ignore\")\n",
        "tf.compat.v1.disable_eager_execution()\n",
        "%matplotlib inline"
      ],
      "execution_count": 335,
      "outputs": []
    },
    {
      "cell_type": "code",
      "metadata": {
        "colab": {
          "base_uri": "https://localhost:8080/",
          "height": 204
        },
        "id": "fjFju967qSgg",
        "outputId": "46e5424f-fdc2-446c-c631-202689b73165"
      },
      "source": [
        "## Import Dataset from drive for Smile representation of drug molecules:\n",
        "data = pd.read_csv('/content/drive/MyDrive/Dataset/MoleculeSythesis/dataset/AA.csv')\n",
        "data.head()"
      ],
      "execution_count": 336,
      "outputs": [
        {
          "output_type": "execute_result",
          "data": {
            "text/html": [
              "<div>\n",
              "<style scoped>\n",
              "    .dataframe tbody tr th:only-of-type {\n",
              "        vertical-align: middle;\n",
              "    }\n",
              "\n",
              "    .dataframe tbody tr th {\n",
              "        vertical-align: top;\n",
              "    }\n",
              "\n",
              "    .dataframe thead th {\n",
              "        text-align: right;\n",
              "    }\n",
              "</style>\n",
              "<table border=\"1\" class=\"dataframe\">\n",
              "  <thead>\n",
              "    <tr style=\"text-align: right;\">\n",
              "      <th></th>\n",
              "      <th>zinc_id</th>\n",
              "      <th>smiles</th>\n",
              "    </tr>\n",
              "  </thead>\n",
              "  <tbody>\n",
              "    <tr>\n",
              "      <th>0</th>\n",
              "      <td>ZINC000000008151</td>\n",
              "      <td>C[C@H]1[C@@H](O)[C@H](CO)O[C@@H](O)[C@@H]1N</td>\n",
              "    </tr>\n",
              "    <tr>\n",
              "      <th>1</th>\n",
              "      <td>ZINC000000008153</td>\n",
              "      <td>CC[C@@H]1[C@@H](N)[C@@H](O)O[C@@H](CO)[C@@H]1O</td>\n",
              "    </tr>\n",
              "    <tr>\n",
              "      <th>2</th>\n",
              "      <td>ZINC000000008155</td>\n",
              "      <td>CC1(C)[C@@H](N)[C@@H](O)O[C@@H](CO)[C@@H]1O</td>\n",
              "    </tr>\n",
              "    <tr>\n",
              "      <th>3</th>\n",
              "      <td>ZINC000000018276</td>\n",
              "      <td>CS[C@@H]1CN[C@@H](CO)[C@H](O)[C@H]1O</td>\n",
              "    </tr>\n",
              "    <tr>\n",
              "      <th>4</th>\n",
              "      <td>ZINC000000018279</td>\n",
              "      <td>CS[C@@H]1[C@@H](O)CN[C@@H](CO)[C@@H]1O</td>\n",
              "    </tr>\n",
              "  </tbody>\n",
              "</table>\n",
              "</div>"
            ],
            "text/plain": [
              "            zinc_id                                          smiles\n",
              "0  ZINC000000008151     C[C@H]1[C@@H](O)[C@H](CO)O[C@@H](O)[C@@H]1N\n",
              "1  ZINC000000008153  CC[C@@H]1[C@@H](N)[C@@H](O)O[C@@H](CO)[C@@H]1O\n",
              "2  ZINC000000008155     CC1(C)[C@@H](N)[C@@H](O)O[C@@H](CO)[C@@H]1O\n",
              "3  ZINC000000018276            CS[C@@H]1CN[C@@H](CO)[C@H](O)[C@H]1O\n",
              "4  ZINC000000018279          CS[C@@H]1[C@@H](O)CN[C@@H](CO)[C@@H]1O"
            ]
          },
          "metadata": {
            "tags": []
          },
          "execution_count": 336
        }
      ]
    },
    {
      "cell_type": "code",
      "metadata": {
        "colab": {
          "base_uri": "https://localhost:8080/",
          "height": 369
        },
        "id": "y3bBe098rE7Y",
        "outputId": "cd52ec1b-8eb4-4d0f-a62e-446c4f0731eb"
      },
      "source": [
        "#### Plot distribution of smile molecules vs the molecule length\n",
        "fig, axes = plt.subplots(nrows = 1, ncols = 3, figsize = (15, 5))\n",
        "axes[0].set_title(\"SMILES length distribution\")\n",
        "axes[0].hist(data['smiles'].str.len(), align = 'left')\n",
        "axes[1].set_title(\"SMILES length less or equal than 62 distribution\")\n",
        "axes[1].hist(data[data['smiles'].str.len() <= 30]['smiles'].str.len(), align = 'left')\n",
        "axes[2].set_title(\"SMILES length greater than 30 distribution\")\n",
        "axes[2].hist(data[data['smiles'].str.len() > 30]['smiles'].str.len(), align = 'left')\n",
        "fig.tight_layout()\n",
        "plt.show()"
      ],
      "execution_count": 337,
      "outputs": [
        {
          "output_type": "display_data",
          "data": {
            "image/png": "[encoded data removed]",
            "text/plain": [
              "<Figure size 1080x360 with 3 Axes>"
            ]
          },
          "metadata": {
            "tags": [],
            "needs_background": "light"
          }
        }
      ]
    },
    {
      "cell_type": "code",
      "metadata": {
        "id": "6x-TbY7lfM-1"
      },
      "source": [
        "# Super set of characters used for smile generations\n",
        "SMILES_CHARS = [' ',\n",
        "                  '#', '%', '(', ')', '+', '-', '.', '/',\n",
        "                  '0', '1', '2', '3', '4', '5', '6', '7', '8', '9',\n",
        "                  '=', '@',\n",
        "                  'A', 'B', 'C', 'F', 'H', 'I', 'K', 'L', 'M', 'N', 'O', 'P',\n",
        "                  'R', 'S', 'T', 'V', 'X', 'Z',\n",
        "                  '[', '\\\\', ']',\n",
        "                  'a', 'b', 'c', 'e', 'g', 'i', 'l', 'n', 'o', 'p', 'r', 's',\n",
        "                  't', 'u'\n",
        "]"
      ],
      "execution_count": 351,
      "outputs": []
    },
    {
      "cell_type": "code",
      "metadata": {
        "colab": {
          "base_uri": "https://localhost:8080/"
        },
        "id": "2RBhFspsp3oK",
        "outputId": "e9f8c981-aba8-4480-916f-855d80d8c8f2"
      },
      "source": [
        "#### Create dictionaries from character set for encoding and decoding smiles\n",
        "encoder_dict = dict( (c,i) for i,c in enumerate( SMILES_CHARS ) )\n",
        "decoder_dict = dict( (i,c) for i,c in enumerate( SMILES_CHARS ) )\n",
        "print(encoder_dict)\n",
        "print(decoder_dict)"
      ],
      "execution_count": 353,
      "outputs": [
        {
          "output_type": "stream",
          "text": [
            "{' ': 0, '#': 1, '%': 2, '(': 3, ')': 4, '+': 5, '-': 6, '.': 7, '/': 8, '0': 9, '1': 10, '2': 11, '3': 12, '4': 13, '5': 14, '6': 15, '7': 16, '8': 17, '9': 18, '=': 19, '@': 20, 'A': 21, 'B': 22, 'C': 23, 'F': 24, 'H': 25, 'I': 26, 'K': 27, 'L': 28, 'M': 29, 'N': 30, 'O': 31, 'P': 32, 'R': 33, 'S': 34, 'T': 35, 'V': 36, 'X': 37, 'Z': 38, '[': 39, '\\\\': 40, ']': 41, 'a': 42, 'b': 43, 'c': 44, 'e': 45, 'g': 46, 'i': 47, 'l': 48, 'n': 49, 'o': 50, 'p': 51, 'r': 52, 's': 53, 't': 54, 'u': 55}\n",
            "{0: ' ', 1: '#', 2: '%', 3: '(', 4: ')', 5: '+', 6: '-', 7: '.', 8: '/', 9: '0', 10: '1', 11: '2', 12: '3', 13: '4', 14: '5', 15: '6', 16: '7', 17: '8', 18: '9', 19: '=', 20: '@', 21: 'A', 22: 'B', 23: 'C', 24: 'F', 25: 'H', 26: 'I', 27: 'K', 28: 'L', 29: 'M', 30: 'N', 31: 'O', 32: 'P', 33: 'R', 34: 'S', 35: 'T', 36: 'V', 37: 'X', 38: 'Z', 39: '[', 40: '\\\\', 41: ']', 42: 'a', 43: 'b', 44: 'c', 45: 'e', 46: 'g', 47: 'i', 48: 'l', 49: 'n', 50: 'o', 51: 'p', 52: 'r', 53: 's', 54: 't', 55: 'u'}\n"
          ],
          "name": "stdout"
        }
      ]
    },
    {
      "cell_type": "code",
      "metadata": {
        "colab": {
          "base_uri": "https://localhost:8080/"
        },
        "id": "oOsnKNlkvCX4",
        "outputId": "423ab899-70cd-4b40-ac19-51549336529c"
      },
      "source": [
        "smiles_data = data['smiles'][:250000]\n",
        "smiles_data = np.array(smiles_data).reshape(-1)\n",
        "print('Number of mols: '+str(len(smiles_data)))\n",
        "idx = [i for i, x in enumerate(smiles_data) if len(x)<=120]\n",
        "print('Number of valid mols: '+str(len(idx)))\n",
        "smiles_data = smiles_data[idx]\n",
        "print('Getting a unique character set...')"
      ],
      "execution_count": 354,
      "outputs": [
        {
          "output_type": "stream",
          "text": [
            "Number of mols: 250000\n",
            "Number of valid mols: 250000\n",
            "Getting a unique character set...\n"
          ],
          "name": "stdout"
        }
      ]
    },
    {
      "cell_type": "code",
      "metadata": {
        "colab": {
          "base_uri": "https://localhost:8080/"
        },
        "id": "GH_bu7vlu58E",
        "outputId": "71b0587c-9d4f-4fd5-d03c-d6613e356bee"
      },
      "source": [
        "char_set = set()\n",
        "for i in tqdm(range(len(smiles_data))):\n",
        "    smiles_data[i] = smiles_data[i].ljust(62)\n",
        "    char_set = char_set.union(set(smiles_data[i]))\n",
        "char_set_list = sorted(list(char_set))\n",
        "print('Number of characters: '+str(len(char_set_list)))"
      ],
      "execution_count": 355,
      "outputs": [
        {
          "output_type": "stream",
          "text": [
            "100%|██████████| 250000/250000 [00:00<00:00, 394229.22it/s]"
          ],
          "name": "stderr"
        },
        {
          "output_type": "stream",
          "text": [
            "Number of characters: 37\n"
          ],
          "name": "stdout"
        },
        {
          "output_type": "stream",
          "text": [
            "\n"
          ],
          "name": "stderr"
        }
      ]
    },
    {
      "cell_type": "code",
      "metadata": {
        "id": "XV2Suph9p6Qc"
      },
      "source": [
        "def one_hot_encoder( smiles ):\n",
        "    X = np.zeros( ( 62, len( SMILES_CHARS ) ) )\n",
        "    for i, c in enumerate( smiles ):\n",
        "        X[i, encoder_dict[c]] = 1\n",
        "    return X\n",
        "\n",
        "def one_hot_decoder( X ):\n",
        "    smi = ''\n",
        "    X = X.argmax( axis=-1 )\n",
        "    for i in X:\n",
        "        smi += decoder_dict[i]\n",
        "    return smi"
      ],
      "execution_count": 356,
      "outputs": []
    },
    {
      "cell_type": "code",
      "metadata": {
        "id": "ju2aBw-Gff9G"
      },
      "source": [
        "x = []\n",
        "for i in data['smiles'][:500]:\n",
        "    x.append(one_hot_encoder(i))\n",
        "arr = np.array(x)"
      ],
      "execution_count": 357,
      "outputs": []
    },
    {
      "cell_type": "code",
      "metadata": {
        "id": "2Qx1k17Kfk_t",
        "colab": {
          "base_uri": "https://localhost:8080/"
        },
        "outputId": "5d61c8e6-418f-41f1-fa42-31c9e88f6ab2"
      },
      "source": [
        "arr = arr.reshape(-1,62,56,1)\n",
        "arr.shape"
      ],
      "execution_count": 344,
      "outputs": [
        {
          "output_type": "execute_result",
          "data": {
            "text/plain": [
              "(500, 62, 56, 1)"
            ]
          },
          "metadata": {
            "tags": []
          },
          "execution_count": 344
        }
      ]
    },
    {
      "cell_type": "code",
      "metadata": {
        "id": "r5FoBrgeF5ZU"
      },
      "source": [
        "img_shape = (62, 56,1)\n",
        "batch_size = 16\n",
        "latent_dim = 2\n",
        "input_img = keras.Input(shape=img_shape)\n",
        "x = layers.Conv1D(32, 7,\n",
        "                  padding='same',\n",
        "                  activation='relu',\n",
        "                  )(input_img)\n",
        "x = layers.Conv2D(128, 3,\n",
        "                  padding='same',\n",
        "                  activation='relu',\n",
        "                  strides=(2, 2))(x)\n",
        "x = layers.Conv2D(128, 3,\n",
        "                  padding='same',\n",
        "                  activation='relu')(x)\n",
        "x = layers.Conv2D(128, 3,\n",
        "                  padding='same',\n",
        "                  activation='relu')(x)\n",
        "shape_before_flattening = K.int_shape(x)\n",
        "x = layers.Flatten()(x)\n",
        "x = layers.Dense(32, activation='relu')(x)\n",
        "z_mu = layers.Dense(latent_dim)(x)\n",
        "z_log_sigma = layers.Dense(latent_dim)(x)"
      ],
      "execution_count": 345,
      "outputs": []
    },
    {
      "cell_type": "code",
      "metadata": {
        "id": "ibWwwiPZv6Dy"
      },
      "source": [
        "def sampling(args):\n",
        "  z_mu, z_log_sigma = args\n",
        "  epsilon = K.random_normal(shape=(K.shape(z_mu)[0], latent_dim),\n",
        "  mean=0., stddev=1.)\n",
        "  return z_mu + K.exp(z_log_sigma) * epsilon\n",
        "z = layers.Lambda(sampling)([z_mu, z_log_sigma])"
      ],
      "execution_count": 346,
      "outputs": []
    },
    {
      "cell_type": "code",
      "metadata": {
        "id": "x2pDm2Xfv6X-"
      },
      "source": [
        "decoder_input = layers.Input(K.int_shape(z)[1:])\n",
        "x = layers.Dense(np.prod(shape_before_flattening[1:]),\n",
        "                 activation='relu')(decoder_input)\n",
        "x = layers.Reshape(shape_before_flattening[1:])(x)\n",
        "x = layers.Conv2DTranspose(32, 3,\n",
        "                           padding='same',\n",
        "                           activation='relu',\n",
        "                           strides=(2, 2))(x)\n",
        "x = layers.Conv2D(1, 3,\n",
        "                  padding='same',\n",
        "                  activation='sigmoid')(x)\n",
        "decoder = Model(decoder_input, x)\n",
        "z_decoded = decoder(z)"
      ],
      "execution_count": 347,
      "outputs": []
    },
    {
      "cell_type": "code",
      "metadata": {
        "id": "W8-s3hMF8qEC"
      },
      "source": [
        "class CustomVariationalLayer(keras.layers.Layer):\n",
        "    def vae_loss(self, x, z_decoded):\n",
        "        x = K.flatten(x)\n",
        "        z_decoded = K.flatten(z_decoded)\n",
        "        xent_loss = keras.metrics.binary_crossentropy(x, z_decoded) #Recin loss\n",
        "        kl_loss = -5e-4 * K.mean(1 + z_log_sigma - K.square(z_mu) - K.exp(z_log_sigma), axis=-1) #KL loss\n",
        "        return K.mean(xent_loss + kl_loss)\n",
        "\n",
        "    def call(self, inputs):\n",
        "        x = inputs[0]\n",
        "        z_decoded = inputs[1]\n",
        "        loss = self.vae_loss(x, z_decoded)\n",
        "        self.add_loss(loss, inputs=inputs)\n",
        "        return x\n",
        "\n",
        "y = CustomVariationalLayer()([input_img, z_decoded])"
      ],
      "execution_count": 348,
      "outputs": []
    },
    {
      "cell_type": "code",
      "metadata": {
        "colab": {
          "base_uri": "https://localhost:8080/"
        },
        "id": "P3Wm2AvY9MGf",
        "outputId": "3595ea78-df06-4039-9855-0036bdbbe6d6"
      },
      "source": [
        "# VAE model statement\n",
        "vae = Model(input_img, y)\n",
        "vae.compile(optimizer='rmsprop', loss=None)\n",
        "vae.summary()"
      ],
      "execution_count": 349,
      "outputs": [
        {
          "output_type": "stream",
          "text": [
            "WARNING:tensorflow:Output custom_variational_layer missing from loss dictionary. We assume this was done on purpose. The fit and evaluate APIs will not be expecting any data to be passed to custom_variational_layer.\n",
            "Model: \"model_1\"\n",
            "__________________________________________________________________________________________________\n",
            "Layer (type)                    Output Shape         Param #     Connected to                     \n",
            "==================================================================================================\n",
            "input_1 (InputLayer)            [(None, 62, 56, 1)]  0                                            \n",
            "__________________________________________________________________________________________________\n",
            "conv1d (Conv1D)                 (None, 62, 56, 32)   256         input_1[0][0]                    \n",
            "__________________________________________________________________________________________________\n",
            "conv2d (Conv2D)                 (None, 31, 28, 128)  36992       conv1d[0][0]                     \n",
            "__________________________________________________________________________________________________\n",
            "conv2d_1 (Conv2D)               (None, 31, 28, 128)  147584      conv2d[0][0]                     \n",
            "__________________________________________________________________________________________________\n",
            "conv2d_2 (Conv2D)               (None, 31, 28, 128)  147584      conv2d_1[0][0]                   \n",
            "__________________________________________________________________________________________________\n",
            "flatten (Flatten)               (None, 111104)       0           conv2d_2[0][0]                   \n",
            "__________________________________________________________________________________________________\n",
            "dense (Dense)                   (None, 32)           3555360     flatten[0][0]                    \n",
            "__________________________________________________________________________________________________\n",
            "dense_1 (Dense)                 (None, 2)            66          dense[0][0]                      \n",
            "__________________________________________________________________________________________________\n",
            "dense_2 (Dense)                 (None, 2)            66          dense[0][0]                      \n",
            "__________________________________________________________________________________________________\n",
            "lambda (Lambda)                 (None, 2)            0           dense_1[0][0]                    \n",
            "                                                                 dense_2[0][0]                    \n",
            "__________________________________________________________________________________________________\n",
            "model (Functional)              (None, 62, 56, 1)    370497      lambda[0][0]                     \n",
            "__________________________________________________________________________________________________\n",
            "custom_variational_layer (Custo (None, 62, 56, 1)    0           input_1[0][0]                    \n",
            "                                                                 model[0][0]                      \n",
            "==================================================================================================\n",
            "Total params: 4,258,405\n",
            "Trainable params: 4,258,405\n",
            "Non-trainable params: 0\n",
            "__________________________________________________________________________________________________\n"
          ],
          "name": "stdout"
        }
      ]
    },
    {
      "cell_type": "code",
      "metadata": {
        "colab": {
          "base_uri": "https://localhost:8080/"
        },
        "id": "5veujgFA9UtU",
        "outputId": "d2bd8826-4818-4fa9-8065-ec3b69669ee1"
      },
      "source": [
        "vae.fit(x=arr, y=None,\n",
        "        shuffle=False,\n",
        "        epochs=120,\n",
        "        batch_size=batch_size,\n",
        ")"
      ],
      "execution_count": 350,
      "outputs": [
        {
          "output_type": "stream",
          "text": [
            "Train on 500 samples\n",
            "Epoch 1/120\n",
            "500/500 [==============================] - 1s 2ms/sample - loss: 651432.5542\n",
            "Epoch 2/120\n",
            "500/500 [==============================] - 0s 637us/sample - loss: 0.0484\n",
            "Epoch 3/120\n",
            "500/500 [==============================] - 0s 633us/sample - loss: 0.0389\n",
            "Epoch 4/120\n",
            "500/500 [==============================] - 0s 625us/sample - loss: 0.0367\n",
            "Epoch 5/120\n",
            "500/500 [==============================] - 0s 619us/sample - loss: 0.0354\n",
            "Epoch 6/120\n",
            "500/500 [==============================] - 0s 616us/sample - loss: 0.0354\n",
            "Epoch 7/120\n",
            "500/500 [==============================] - 0s 628us/sample - loss: 0.0353\n",
            "Epoch 8/120\n",
            "500/500 [==============================] - 0s 626us/sample - loss: 0.0343\n",
            "Epoch 9/120\n",
            "500/500 [==============================] - 0s 624us/sample - loss: 0.0344\n",
            "Epoch 10/120\n",
            "500/500 [==============================] - 0s 608us/sample - loss: 0.0338\n",
            "Epoch 11/120\n",
            "500/500 [==============================] - 0s 617us/sample - loss: 0.0343\n",
            "Epoch 12/120\n",
            "500/500 [==============================] - 0s 618us/sample - loss: 0.0335\n",
            "Epoch 13/120\n",
            "500/500 [==============================] - 0s 619us/sample - loss: 0.0327\n",
            "Epoch 14/120\n",
            "500/500 [==============================] - 0s 608us/sample - loss: 0.0323\n",
            "Epoch 15/120\n",
            "500/500 [==============================] - 0s 608us/sample - loss: 0.0324\n",
            "Epoch 16/120\n",
            "500/500 [==============================] - 0s 609us/sample - loss: 0.0318\n",
            "Epoch 17/120\n",
            "500/500 [==============================] - 0s 612us/sample - loss: 0.0316\n",
            "Epoch 18/120\n",
            "500/500 [==============================] - 0s 612us/sample - loss: 0.0314\n",
            "Epoch 19/120\n",
            "500/500 [==============================] - 0s 629us/sample - loss: 0.0311\n",
            "Epoch 20/120\n",
            "500/500 [==============================] - 0s 606us/sample - loss: 0.0310\n",
            "Epoch 21/120\n",
            "500/500 [==============================] - 0s 610us/sample - loss: 0.0308\n",
            "Epoch 22/120\n",
            "500/500 [==============================] - 0s 612us/sample - loss: 0.0304\n",
            "Epoch 23/120\n",
            "500/500 [==============================] - 0s 610us/sample - loss: 0.0303\n",
            "Epoch 24/120\n",
            "500/500 [==============================] - 0s 611us/sample - loss: 0.0301\n",
            "Epoch 25/120\n",
            "500/500 [==============================] - 0s 608us/sample - loss: 0.0299\n",
            "Epoch 26/120\n",
            "500/500 [==============================] - 0s 617us/sample - loss: 0.0297\n",
            "Epoch 27/120\n",
            "500/500 [==============================] - 0s 610us/sample - loss: 0.0296\n",
            "Epoch 28/120\n",
            "500/500 [==============================] - 0s 615us/sample - loss: 0.0294\n",
            "Epoch 29/120\n",
            "500/500 [==============================] - 0s 633us/sample - loss: 0.0292\n",
            "Epoch 30/120\n",
            "500/500 [==============================] - 0s 617us/sample - loss: 0.0288\n",
            "Epoch 31/120\n",
            "500/500 [==============================] - 0s 622us/sample - loss: 0.0282\n",
            "Epoch 32/120\n",
            "500/500 [==============================] - 0s 632us/sample - loss: 0.0279\n",
            "Epoch 33/120\n",
            "500/500 [==============================] - 0s 620us/sample - loss: 0.0274\n",
            "Epoch 34/120\n",
            "500/500 [==============================] - 0s 613us/sample - loss: 0.0274\n",
            "Epoch 35/120\n",
            "500/500 [==============================] - 0s 625us/sample - loss: 0.0272\n",
            "Epoch 36/120\n",
            "500/500 [==============================] - 0s 631us/sample - loss: 0.0269\n",
            "Epoch 37/120\n",
            "500/500 [==============================] - 0s 614us/sample - loss: 0.0268\n",
            "Epoch 38/120\n",
            "500/500 [==============================] - 0s 616us/sample - loss: 0.0267\n",
            "Epoch 39/120\n",
            "500/500 [==============================] - 0s 625us/sample - loss: 0.0266\n",
            "Epoch 40/120\n",
            "500/500 [==============================] - 0s 621us/sample - loss: 0.0264\n",
            "Epoch 41/120\n",
            "500/500 [==============================] - 0s 627us/sample - loss: 0.0263\n",
            "Epoch 42/120\n",
            "500/500 [==============================] - 0s 625us/sample - loss: 0.0263\n",
            "Epoch 43/120\n",
            "500/500 [==============================] - 0s 624us/sample - loss: 0.0262\n",
            "Epoch 44/120\n",
            "500/500 [==============================] - 0s 615us/sample - loss: 0.0261\n",
            "Epoch 45/120\n",
            "500/500 [==============================] - 0s 617us/sample - loss: 0.0259\n",
            "Epoch 46/120\n",
            "500/500 [==============================] - 0s 622us/sample - loss: 0.0258\n",
            "Epoch 47/120\n",
            "500/500 [==============================] - 0s 609us/sample - loss: 0.0258\n",
            "Epoch 48/120\n",
            "500/500 [==============================] - 0s 616us/sample - loss: 0.0257\n",
            "Epoch 49/120\n",
            "500/500 [==============================] - 0s 615us/sample - loss: 0.0256\n",
            "Epoch 50/120\n",
            "500/500 [==============================] - 0s 647us/sample - loss: 0.0256\n",
            "Epoch 51/120\n",
            "500/500 [==============================] - 0s 621us/sample - loss: 0.0257\n",
            "Epoch 52/120\n",
            "500/500 [==============================] - 0s 609us/sample - loss: 0.0255\n",
            "Epoch 53/120\n",
            "500/500 [==============================] - 0s 608us/sample - loss: 0.0254\n",
            "Epoch 54/120\n",
            "500/500 [==============================] - 0s 632us/sample - loss: 0.0253\n",
            "Epoch 55/120\n",
            "500/500 [==============================] - 0s 627us/sample - loss: 0.0253\n",
            "Epoch 56/120\n",
            "500/500 [==============================] - 0s 620us/sample - loss: 0.0253\n",
            "Epoch 57/120\n",
            "500/500 [==============================] - 0s 624us/sample - loss: 0.0252\n",
            "Epoch 58/120\n",
            "500/500 [==============================] - 0s 619us/sample - loss: 0.0252\n",
            "Epoch 59/120\n",
            "500/500 [==============================] - 0s 613us/sample - loss: 0.0251\n",
            "Epoch 60/120\n",
            "500/500 [==============================] - 0s 613us/sample - loss: 0.0250\n",
            "Epoch 61/120\n",
            "500/500 [==============================] - 0s 608us/sample - loss: 0.0249\n",
            "Epoch 62/120\n",
            "500/500 [==============================] - 0s 614us/sample - loss: 0.0249\n",
            "Epoch 63/120\n",
            "500/500 [==============================] - 0s 626us/sample - loss: 0.0249\n",
            "Epoch 64/120\n",
            "500/500 [==============================] - 0s 621us/sample - loss: 0.0250\n",
            "Epoch 65/120\n",
            "500/500 [==============================] - 0s 623us/sample - loss: 0.0248\n",
            "Epoch 66/120\n",
            "500/500 [==============================] - 0s 633us/sample - loss: 0.0247\n",
            "Epoch 67/120\n",
            "500/500 [==============================] - 0s 613us/sample - loss: 0.0247\n",
            "Epoch 68/120\n",
            "500/500 [==============================] - 0s 623us/sample - loss: 0.0246\n",
            "Epoch 69/120\n",
            "500/500 [==============================] - 0s 627us/sample - loss: 0.0245\n",
            "Epoch 70/120\n",
            "500/500 [==============================] - 0s 621us/sample - loss: 0.0246\n",
            "Epoch 71/120\n",
            "500/500 [==============================] - 0s 626us/sample - loss: 0.0245\n",
            "Epoch 72/120\n",
            "500/500 [==============================] - 0s 619us/sample - loss: 0.0245\n",
            "Epoch 73/120\n",
            "500/500 [==============================] - 0s 609us/sample - loss: 0.0245\n",
            "Epoch 74/120\n",
            "500/500 [==============================] - 0s 613us/sample - loss: 0.0244\n",
            "Epoch 75/120\n",
            "500/500 [==============================] - 0s 624us/sample - loss: 0.0243\n",
            "Epoch 76/120\n",
            "500/500 [==============================] - 0s 612us/sample - loss: 0.0243\n",
            "Epoch 77/120\n",
            "500/500 [==============================] - 0s 612us/sample - loss: 0.0242\n",
            "Epoch 78/120\n",
            "500/500 [==============================] - 0s 618us/sample - loss: 0.0243\n",
            "Epoch 79/120\n",
            "500/500 [==============================] - 0s 628us/sample - loss: 0.0242\n",
            "Epoch 80/120\n",
            "500/500 [==============================] - 0s 616us/sample - loss: 0.0241\n",
            "Epoch 81/120\n",
            "500/500 [==============================] - 0s 611us/sample - loss: 0.0241\n",
            "Epoch 82/120\n",
            "500/500 [==============================] - 0s 614us/sample - loss: 0.0241\n",
            "Epoch 83/120\n",
            "500/500 [==============================] - 0s 613us/sample - loss: 0.0240\n",
            "Epoch 84/120\n",
            "500/500 [==============================] - 0s 621us/sample - loss: 0.0241\n",
            "Epoch 85/120\n",
            "500/500 [==============================] - 0s 618us/sample - loss: 0.0240\n",
            "Epoch 86/120\n",
            "500/500 [==============================] - 0s 612us/sample - loss: 0.0240\n",
            "Epoch 87/120\n",
            "500/500 [==============================] - 0s 621us/sample - loss: 0.0239\n",
            "Epoch 88/120\n",
            "500/500 [==============================] - 0s 618us/sample - loss: 0.0239\n",
            "Epoch 89/120\n",
            "500/500 [==============================] - 0s 634us/sample - loss: 0.0239\n",
            "Epoch 90/120\n",
            "500/500 [==============================] - 0s 631us/sample - loss: 0.0238\n",
            "Epoch 91/120\n",
            "500/500 [==============================] - 0s 614us/sample - loss: 0.0237\n",
            "Epoch 92/120\n",
            "500/500 [==============================] - 0s 608us/sample - loss: 0.0238\n",
            "Epoch 93/120\n",
            "500/500 [==============================] - 0s 625us/sample - loss: 0.0237\n",
            "Epoch 94/120\n",
            "500/500 [==============================] - 0s 619us/sample - loss: 0.0237\n",
            "Epoch 95/120\n",
            "500/500 [==============================] - 0s 614us/sample - loss: 0.0236\n",
            "Epoch 96/120\n",
            "500/500 [==============================] - 0s 612us/sample - loss: 0.0238\n",
            "Epoch 97/120\n",
            "500/500 [==============================] - 0s 612us/sample - loss: 0.0236\n",
            "Epoch 98/120\n",
            "500/500 [==============================] - 0s 620us/sample - loss: 0.0236\n",
            "Epoch 99/120\n",
            "500/500 [==============================] - 0s 639us/sample - loss: 0.0236\n",
            "Epoch 100/120\n",
            "500/500 [==============================] - 0s 641us/sample - loss: 0.0235\n",
            "Epoch 101/120\n",
            "500/500 [==============================] - 0s 624us/sample - loss: 0.0235\n",
            "Epoch 102/120\n",
            "500/500 [==============================] - 0s 610us/sample - loss: 0.0234\n",
            "Epoch 103/120\n",
            "500/500 [==============================] - 0s 617us/sample - loss: 0.0235\n",
            "Epoch 104/120\n",
            "500/500 [==============================] - 0s 614us/sample - loss: 0.0234\n",
            "Epoch 105/120\n",
            "500/500 [==============================] - 0s 645us/sample - loss: 0.0234\n",
            "Epoch 106/120\n",
            "500/500 [==============================] - 0s 608us/sample - loss: 0.0233\n",
            "Epoch 107/120\n",
            "500/500 [==============================] - 0s 623us/sample - loss: 0.0232\n",
            "Epoch 108/120\n",
            "500/500 [==============================] - 0s 618us/sample - loss: 0.0232\n",
            "Epoch 109/120\n",
            "500/500 [==============================] - 0s 614us/sample - loss: 0.0234\n",
            "Epoch 110/120\n",
            "500/500 [==============================] - 0s 617us/sample - loss: 0.0231\n",
            "Epoch 111/120\n",
            "500/500 [==============================] - 0s 611us/sample - loss: 0.0233\n",
            "Epoch 112/120\n",
            "500/500 [==============================] - 0s 615us/sample - loss: 0.0232\n",
            "Epoch 113/120\n",
            "500/500 [==============================] - 0s 611us/sample - loss: 0.0230\n",
            "Epoch 114/120\n",
            "500/500 [==============================] - 0s 611us/sample - loss: 0.0231\n",
            "Epoch 115/120\n",
            "500/500 [==============================] - 0s 614us/sample - loss: 0.0230\n",
            "Epoch 116/120\n",
            "500/500 [==============================] - 0s 612us/sample - loss: 0.0230\n",
            "Epoch 117/120\n",
            "500/500 [==============================] - 0s 625us/sample - loss: 0.0230\n",
            "Epoch 118/120\n",
            "500/500 [==============================] - 0s 615us/sample - loss: 0.0231\n",
            "Epoch 119/120\n",
            "500/500 [==============================] - 0s 618us/sample - loss: 0.0229\n",
            "Epoch 120/120\n",
            "500/500 [==============================] - 0s 617us/sample - loss: 0.0229\n"
          ],
          "name": "stdout"
        },
        {
          "output_type": "execute_result",
          "data": {
            "text/plain": [
              "<tensorflow.python.keras.callbacks.History at 0x7f4efcc51080>"
            ]
          },
          "metadata": {
            "tags": []
          },
          "execution_count": 350
        }
      ]
    },
    {
      "cell_type": "code",
      "metadata": {
        "colab": {
          "base_uri": "https://localhost:8080/"
        },
        "id": "5naLRnH7EHph",
        "outputId": "a140395d-bdb9-4ac2-f070-0d901ce87c19"
      },
      "source": [
        "result = []\n",
        "for i in random.sample(range(1, 10000000), 100):\n",
        "  for j in random.sample(range(1, 10000000), 100):\n",
        "    sample_vector = np.array([[i,j]])\n",
        "    res = decoder.predict(sample_vector)\n",
        "    res = res[0].reshape(62,56)\n",
        "    result.append(one_hot_decoder(res).replace(' ',''))\n",
        "set(result)"
      ],
      "execution_count": 264,
      "outputs": [
        {
          "output_type": "execute_result",
          "data": {
            "text/plain": [
              "{'@H]11[@@H(())[@@H]())[@@H(O))C@@H]1)P',\n",
              " '@H]11[@@H(())[@@H]())[@@H]O))C@@H]1)P',\n",
              " '@H]11[@@H(())[@@H]))[@@H]O))C@@H]1)P',\n",
              " '@H]11[@@H(())[@@H]))[@@H]O))C@@H]1OP',\n",
              " 'C11[@@H(())C@@H2(O))@@H]())OC@@H]))[P@]',\n",
              " 'C11[@@H(())C@@H2(O))@@H](O)OC@@H]))[P@]',\n",
              " 'C11[@@H(())C@@H2(O))@@H](O)OC@@H]))[P]',\n",
              " 'C@H]11[@@H(())C@@H]())[@@@](O)OC@@H])P',\n",
              " 'C@H]11[@@H(())C@@H]())[@@@](O)OC@@H]1)P',\n",
              " 'C@H]11[@@H(())[@@H]())[@@@](O))C@@H]1)P',\n",
              " 'C@H]11[@@H(())[@@H]())[@@@](O)OC@@H]1)P',\n",
              " 'C@H]11[@@H(())[@@H]())[@@H(O))C@@H]1)P',\n",
              " 'C@H]11[@@H(())[@@H]())[@@](O))C@@H]1)P',\n",
              " 'C@]11[@@H(())C@@H]())[@@@](O)OC@@H])P',\n",
              " 'C@]11[@@H(())C@@H]())[@@H](O)OC@@H])P',\n",
              " 'C@]11[@@H(())C@@H]())[@@H](O)OC@@H])[P',\n",
              " 'CCN)[@@H())C@@H](O))@@H())OC@HH)[P@O',\n",
              " 'CCN11[@@H())C@@H2(O))@@H(())OC@@H])[P@O',\n",
              " 'CCN11[@@H())C@@H](O))@@H(())OC@@H])[P@O',\n",
              " 'CCN1[@@H())C@@H](O))@@H(())OC@@H)[P@O',\n",
              " 'CCN1[@@H())C@@H](O))@@H())OC@HH)[P@O',\n",
              " 'CCN1c[@@H())C@@H](O))@@H())OC@HH)[P@O',\n",
              " 'CN11[@@H(())C@@H2(O))@@H(())OC@@H]))[P@O',\n",
              " 'CN11[@@H(())C@@H2(O))@@H(())OC@@H]))[P@]',\n",
              " 'CN11[@@H(())C@@H2(O))@@H]())OC@@H]))[P@]',\n",
              " 'CN11[@@H())C@@H2(O))@@H(())OC@@H]))[P@O',\n",
              " 'CN11[@@H())C@@H2(O))@@H(())OC@@H])[P@O',\n",
              " 'C]11[@@H(())C@@H2(O))@@H](O)OC@@H]))[P]',\n",
              " 'C]11[@@H(())C@@H2(O))@@H](O)OC@@H])[P]',\n",
              " 'C]11[@@H(())C@@H2(O))[@@H](O)OC@@H])[P]',\n",
              " 'C]11[@@H(())C@@H]())[@@H](O)OC@@H])[P',\n",
              " 'C]11[@@H(())C@@H](O))[@@H](O)OC@@H])[P',\n",
              " 'C]11[@@H(())C@@H](O))[@@H](O)OC@@H])[P]',\n",
              " 'CcCN)C@@H(O))C@@H](O))C@@H())O@H)[P@O',\n",
              " 'CcCN)C@@H(O))C@@H](O))C@@H())O@HH)[P@O',\n",
              " 'CcCN)C@@H(O))C@@H](O))C@@H())O@])[P@O',\n",
              " 'CcCN)C@@H(O))C@@H](O))C@@]())O@])[P@O',\n",
              " 'CcCN)C@HH(O))C@@H](O))C@@]())O@])[P@O',\n",
              " 'CcCN)CC@HH(O))C@@H](O))C@@]())O)P@]O',\n",
              " 'CcCN)CC@HH(O))C@@H](O))C@@]())O@)P@]O',\n",
              " 'CcCN)CC@HH(O))C@@H](O))C@@]())O@)[P@O',\n",
              " 'CcCN)CC@HH(O))C@@H](O))C@@]())O@)[P@OO',\n",
              " 'CcCN)CC@HH(O))C@@H](O))C@@]())O@)[P@]O',\n",
              " 'CcCN)CC@HH(O))C@@H](O))C@@]())O@])[P@O',\n",
              " 'CcCN)CC@HH(O))C@@H](O)[C@@]())O)P@]O',\n",
              " 'CcCN)CC@HH(O))C@@H](O)[C@@]()CO)P@]O',\n",
              " 'CcCN)CC@HH(O))C@@H](O)[C@@]()O)P@]O',\n",
              " 'CcCN)[@@H())C@@H](O))@@H())OC@HH)[P@O',\n",
              " 'CcCN)[@@H())C@@H](O))C@@H())OC@HH)[P@O',\n",
              " 'CcCN)[@@H(O))C@@H](O))C@@H())O@HH)[P@O',\n",
              " 'CcCN)[@@H(O))C@@H](O))C@@H())OC@HH)[P@O',\n",
              " 'CcCNN)CC@HH(O))C@@H](O)[C@@]()CO)P@]',\n",
              " 'CcCNN)CC@HH(O))C@@H](O)[C@@]()COaP@]',\n",
              " 'CcCNN)CC@HH(O))C@@H](O)[C@H]()COaP@]',\n",
              " 'CcCNN)[C@HH(O))C@@H](O)[C@H]()COaP@]',\n",
              " 'Cn(-)2))[31H](1O)[ccnc--n2',\n",
              " 'Cn(-)2))[31H]11O)[ccnc--n2',\n",
              " 'Cn(-)2))[31H]11O)[ncnc--n2',\n",
              " 'Cn(-)2))[31H]11c)[ncnc--n2',\n",
              " 'Cn(c)())[3@H]())CcccOnn',\n",
              " 'Cn(c)())[3@H]())Cccnc-nn',\n",
              " 'Cn(c)())[3@H]())CccncOnn',\n",
              " 'Cn(c)())[3@H]())Cncc(On',\n",
              " 'Cn(c)())[3@H]())CnccOn',\n",
              " 'Cn(c)())[3@H]())CnccOnn',\n",
              " 'Cn(c)2))[31H](1O)[ccnc--n2',\n",
              " 'Cn(c)2))[3@H](1O)[ccnc--n2',\n",
              " 'Cn(c)2))[3@H](O)[ccnc--n2',\n",
              " 'Cn(c)c))[3@H]())Cccnc-nn',\n",
              " 'Cn(c)c))[3@H]())Cccnc-nn2',\n",
              " 'Cn(c)c))[3@H](O)Cccnc-nn2',\n",
              " 'Cn(c)c))[3@H](O)[ccnc--n2',\n",
              " 'Cn(c)c))[3@H](O)[ccnc-nn2',\n",
              " 'Cn--)2))[31H]11c)[ncnc--n2',\n",
              " 'Cn--)2))[31H]11c)[ncncn--n2',\n",
              " 'Cn--)2))[31H]11c)c1cncn--n2',\n",
              " 'Cn--)2))[31H]11c)n1cncn--n2',\n",
              " 'Cn--)2))[31H]11c)nncncn--n2',\n",
              " 'Cn--)2))[31c]11c)c1cncn--n2',\n",
              " 'Cn--22))[31c]11c)c1cnc1--n2',\n",
              " 'Cn--22))[31c]11c)c1cncn--n2',\n",
              " 'Cn--22))[31c]c1c)c1cnc1--n2',\n",
              " 'Cn--22+)[31c]c1c)c1cnc1--n2',\n",
              " 'Cn--22+)[31c]c1c)c1nnc1--n',\n",
              " 'Cn--22+)[31c]c1c)c1nnc1--n2',\n",
              " 'Cn--c2+)[31c2c1c)c1nnc1--n',\n",
              " 'Cn--c2+)[31c]c1c)c1nnc1--n',\n",
              " 'Cn--c2+c[31c2c1c)c1nnc1--n',\n",
              " 'Cn--c2+c[31c2c1c)c1nnc1-2-n',\n",
              " 'Cn--c2+c[31c2c1c)c1nnc1-23n',\n",
              " 'Cn--c2+c[31c2c1c)c1nnc1-2nn',\n",
              " 'Nn(c)())[3@H]())CncHc(On',\n",
              " 'Nn(c)())[3@H]())Cncc(On',\n",
              " 'Nn(cC())[3@H]())C@@Hc(On',\n",
              " 'Nn(cC())[3@H]())Cn@Hc(On',\n",
              " 'Nn(cC())[3@H]())CncHc(On',\n",
              " 'NnCcC())[3@HH())C@@H](On',\n",
              " 'NnCcC())[3@HH())C@@H](On@H',\n",
              " 'NnCcC())[3@HH())C@@H](OnH',\n",
              " 'NnCcC())[3@HH(O))C@@H](On@H',\n",
              " 'NnCcC())[3@H]())C@@H](On',\n",
              " 'NnCcC())[3@H]())C@@Hc(On',\n",
              " 'NnCcC())[C@HH(O))C@@H](On@H',\n",
              " 'NnCcC())[C@HH(O))C@@H](On@H]',\n",
              " 'nCcC())[C@HH(O))C@@H](O)C@H]()COP',\n",
              " 'nCcC())[C@HH(O))C@@H](O)[C@H]()COP',\n",
              " 'nCcC())[C@HH(O))C@@H](O)[C@H]()COP@',\n",
              " 'nCcC())[C@HH(O))C@@H](O)[C@H]()COP@]',\n",
              " 'nCcC())[C@HH(O))C@@H](O)[C@H]()COaP@]',\n",
              " 'nCcC())[C@HH(O))C@@H](O)n@H]',\n",
              " 'nCcC())[C@HH(O))C@@H](O)n@H]()COP',\n",
              " 'nCcC())[C@HH(O))C@@H](O)n@H]()OP',\n",
              " 'nCcC())[C@HH(O))C@@H](O)n@H]()P',\n",
              " 'nCcC())[C@HH(O))C@@H](O)n@H](P',\n",
              " 'nCcC())[C@HH(O))C@@H](On@H]',\n",
              " 'nCcCN))[C@HH(O))C@@H](O)[C@H]()COaP@]',\n",
              " 'nCcCNN)[C@HH(O))C@@H](O)[C@H]()COaP@]'}"
            ]
          },
          "metadata": {
            "tags": []
          },
          "execution_count": 264
        }
      ]
    },
    {
      "cell_type": "code",
      "metadata": {
        "id": "XDSxIOXlxHRe"
      },
      "source": [
        ""
      ],
      "execution_count": null,
      "outputs": []
    }
  ]
}